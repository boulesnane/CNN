{
 "cells": [
  {
   "cell_type": "code",
   "execution_count": 126,
   "metadata": {},
   "outputs": [
    {
     "name": "stdout",
     "output_type": "stream",
     "text": [
      "50000\n",
      "1024\n"
     ]
    }
   ],
   "source": [
    "import tensorflow as tf\n",
    "import cv2\n",
    "from tensorflow import keras\n",
    "from PIL import Image\n",
    "import numpy as p\n",
    "\n",
    "(x_train, y_train), (_, _) = tf.keras.datasets.cifar10.load_data()\n",
    "\n",
    "x_train = [cv2.cvtColor(image, cv2.COLOR_BGR2GRAY).flatten().tolist() for image in x_train]\n",
    "##x_train=np.asarray(x_train)\n",
    "print(len(x_train))\n",
    "print(len(x_train[0])) # 32*32"
   ]
  },
  {
   "cell_type": "markdown",
   "metadata": {},
   "source": [
    "Shuffle the cifar 10 training set  x_train( each input with corresponding label in  y_train ) "
   ]
  },
  {
   "cell_type": "code",
   "execution_count": 127,
   "metadata": {},
   "outputs": [
    {
     "data": {
      "text/plain": [
       "array([[7],\n",
       "       [8],\n",
       "       [0],\n",
       "       ...,\n",
       "       [8],\n",
       "       [8],\n",
       "       [8]], dtype=uint8)"
      ]
     },
     "execution_count": 127,
     "metadata": {},
     "output_type": "execute_result"
    }
   ],
   "source": [
    "from sklearn.utils import shuffle\n",
    "x_train2, y_train2 = shuffle(x_train, y_train, random_state=42)\n",
    "y_train2"
   ]
  },
  {
   "cell_type": "markdown",
   "metadata": {},
   "source": [
    "Select 2500 images and you must ensure that each class must contain at least 180 samples  \n"
   ]
  },
  {
   "cell_type": "code",
   "execution_count": null,
   "metadata": {},
   "outputs": [],
   "source": [
    "newxtrain=[]\n",
    "newytrain=[]\n",
    "\n",
    "for c in range(0,10):\n",
    "    cont =0\n",
    "    for i in range(len(y_train2)):\n",
    "        if y_train2[i]==c and cont <250:\n",
    "            newxtrain.append(x_train2[i])\n",
    "            newytrain.append(y_train2[i])\n",
    "            cont =cont +1\n",
    "        elif cont >250:\n",
    "            break"
   ]
  },
  {
   "cell_type": "code",
   "execution_count": 129,
   "metadata": {},
   "outputs": [
    {
     "data": {
      "text/plain": [
       "2500"
      ]
     },
     "execution_count": 129,
     "metadata": {},
     "output_type": "execute_result"
    }
   ],
   "source": [
    "len(newxtrain)"
   ]
  },
  {
   "cell_type": "code",
   "execution_count": 130,
   "metadata": {},
   "outputs": [
    {
     "data": {
      "text/plain": [
       "2500"
      ]
     },
     "execution_count": 130,
     "metadata": {},
     "output_type": "execute_result"
    }
   ],
   "source": [
    "len(newytrain)"
   ]
  },
  {
   "cell_type": "code",
   "execution_count": 136,
   "metadata": {},
   "outputs": [],
   "source": [
    "import random\n",
    "import math \n",
    "def CNN(subX,subY, X, Y):\n",
    "    addittions = False\n",
    "    while not(addittions):\n",
    "        for cl in range(0,10):\n",
    "            while True:\n",
    "                xs= random.randint(0,len(X))\n",
    "                if Y[xs] == cl:\n",
    "                    break\n",
    "            Zc = -1 # to keep the best index related to the min value of DZc\n",
    "            DZc =float('inf')\n",
    "            for k in range(len(subX)):\n",
    "                D = 0\n",
    "                for j in range(len(subX[k])):\n",
    "                    D = D + (subX[k][j] - X[xs][j])**2\n",
    "                D = math.sqrt(D)\n",
    "                if D < DZc:\n",
    "                    Zc = k\n",
    "                    DZc = D\n",
    "            \n",
    "            if  Y[xs] != subY[Zc]:\n",
    "                subX.append(X[xs])\n",
    "                subY.append(Y[xs])\n",
    "                X.pop(xs)\n",
    "                Y.pop(xs)\n",
    "                addittions = True\n"
   ]
  },
  {
   "cell_type": "code",
   "execution_count": 137,
   "metadata": {},
   "outputs": [],
   "source": [
    "y_train_typlist=[]\n",
    "for i in range(len(y_train)):\n",
    "    y_train_typlist.append(y_train[i][0])"
   ]
  },
  {
   "cell_type": "code",
   "execution_count": 150,
   "metadata": {},
   "outputs": [],
   "source": [
    "CNN(newxtrain,newytrain, x_train, y_train_typlist)"
   ]
  },
  {
   "cell_type": "code",
   "execution_count": 143,
   "metadata": {
    "scrolled": true
   },
   "outputs": [
    {
     "name": "stdout",
     "output_type": "stream",
     "text": [
      "2513 2513 49987 49987\n"
     ]
    }
   ],
   "source": [
    "print(len(newxtrain),len(newytrain), len(x_train), len(y_train_typlist))"
   ]
  }
 ],
 "metadata": {
  "kernelspec": {
   "display_name": "Python 3",
   "language": "python",
   "name": "python3"
  },
  "language_info": {
   "codemirror_mode": {
    "name": "ipython",
    "version": 3
   },
   "file_extension": ".py",
   "mimetype": "text/x-python",
   "name": "python",
   "nbconvert_exporter": "python",
   "pygments_lexer": "ipython3",
   "version": "3.8.3"
  }
 },
 "nbformat": 4,
 "nbformat_minor": 2
}
